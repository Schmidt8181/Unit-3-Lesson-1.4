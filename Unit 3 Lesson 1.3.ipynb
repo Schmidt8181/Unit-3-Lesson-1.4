{
 "cells": [
  {
   "cell_type": "code",
   "execution_count": 7,
   "metadata": {
    "scrolled": false
   },
   "outputs": [],
   "source": [
    "import pandas as pd\n",
    "import numpy as np\n",
    "import matplotlib.pyplot as plt\n",
    "import statistics\n",
    "%matplotlib inline"
   ]
  },
  {
   "cell_type": "code",
   "execution_count": 5,
   "metadata": {},
   "outputs": [
    {
     "data": {
      "image/png": "[encoded data removed]",
      "text/plain": [
       "<matplotlib.figure.Figure at 0x10f2c2400>"
      ]
     },
     "metadata": {},
     "output_type": "display_data"
    },
    {
     "name": "stdout",
     "output_type": "stream",
     "text": [
      "low_var      98.237497\n",
      "high_var    465.936474\n",
      "dtype: float64\n",
      "low_var      21.055898\n",
      "high_var   -336.710229\n",
      "dtype: float64\n"
     ]
    }
   ],
   "source": [
    "# First, create an empty dataframe to store your variables-to-be.\n",
    "pop=pd.DataFrame()\n",
    "\n",
    "# Then create two variables with mean = 60, one with a low standard\n",
    "# deviation (sd=10) and one with a high standard deviation (sd=100).\n",
    "pop['low_var']=np.random.normal(60, 10, 10000)\n",
    "pop['high_var']=np.random.normal(60, 100, 10000)\n",
    "\n",
    "# Finally, create histograms of the two variables.\n",
    "pop.hist(layout=(2, 1), sharex=True)\n",
    "plt.show()\n",
    "\n",
    "# Calculate and print the maximum and minimum values for each variable.\n",
    "print(pop.max())\n",
    "print(pop.min())"
   ]
  },
  {
   "cell_type": "markdown",
   "metadata": {},
   "source": [
    "# # lesson 1.4 Manual Drills\n",
    "\n",
    "kids ages (14, 12, 11, 10, 8, 6, 8)\n",
    "\n",
    "median = 10\n",
    "\n",
    "mean = 14+12+11+10+8+6+8 = 69 / 7 = 9.86\n",
    "\n",
    "mode = 8\n",
    "\n",
    "(manually calculated) variance = \n",
    "((14-9.9 = 4.14^2 = 17.1396)+\n",
    " (12- '' =2.14^2 = 4.5796)+\n",
    " (11- '' =1.14^2 = 1.2996)+\n",
    " (10- '' =0.14^2 = .0196)+\n",
    " ( 8- '' =-1.86^2 = 3.4596)+ \n",
    " ( 8- '' =-1.86^2 = 3.4596)+\n",
    " ( 6- '' =-3.86^2 = 14.8996))= 44.8572 / (7-1)= 7.4762\n",
    " variance = 7.4762\n",
    " \n",
    " \n",
    " standard deviation = .12\n",
    " \n",
    " standard error = .046"
   ]
  },
  {
   "cell_type": "code",
   "execution_count": 6,
   "metadata": {
    "collapsed": true
   },
   "outputs": [],
   "source": [
    "df = pd.DataFrame()\n",
    "\n",
    "df['age'] = [14, 12, 11, 10, 8, 6, 8]\n",
    "\n",
    "df['name'] = ['Greg', 'Marcia', 'Peter', 'Jan', 'Bobby', 'Cindy', 'Oliver']\n"
   ]
  },
  {
   "cell_type": "markdown",
   "metadata": {},
   "source": [
    "Q2: I would choose mean. For this example, mean is the only one which actually takes the ages of the other children into account. \n",
    "\n",
    "Q3: "
   ]
  },
  {
   "cell_type": "code",
   "execution_count": 8,
   "metadata": {},
   "outputs": [
    {
     "name": "stdout",
     "output_type": "stream",
     "text": [
      "9.85714285714\n",
      "10.0\n",
      "8\n"
     ]
    }
   ],
   "source": [
    "mean = np.mean(df['age'])\n",
    "median = np.median(df['age'])\n",
    "mode = statistics.mode(df['age'])\n",
    "print(mean)\n",
    "print(median)\n",
    "print(mode)"
   ]
  },
  {
   "cell_type": "code",
   "execution_count": 15,
   "metadata": {},
   "outputs": [
    {
     "name": "stdout",
     "output_type": "stream",
     "text": [
      "15.4285714286\n",
      "3.92792202425\n",
      "4.24264068712\n",
      "1.60356745147\n"
     ]
    }
   ],
   "source": [
    "variance = np.var(df['age'])\n",
    "standard_deviation = np.std(df['age'])\n",
    "population_standard_deviation = np.std(df['age'], ddof=1)\n",
    "standard_error = np.std(df['age'], ddof=1) / np.sqrt(len(df['age']))\n",
    "print(variance)\n",
    "print(standard_deviation)\n",
    "print(population_standard_deviation)\n",
    "print(standard_error)\n"
   ]
  },
  {
   "cell_type": "code",
   "execution_count": 10,
   "metadata": {},
   "outputs": [
    {
     "name": "stdout",
     "output_type": "stream",
     "text": [
      "   age    name\n",
      "0   14    Greg\n",
      "1   12  Marcia\n",
      "2   11   Peter\n",
      "3   10     Jan\n",
      "4    8   Bobby\n",
      "5    6   Cindy\n",
      "6    8  Oliver\n"
     ]
    }
   ],
   "source": [
    "print(df)"
   ]
  },
  {
   "cell_type": "code",
   "execution_count": 11,
   "metadata": {},
   "outputs": [
    {
     "name": "stdout",
     "output_type": "stream",
     "text": [
      "   age    name\n",
      "0   14    Greg\n",
      "1   12  Marcia\n",
      "2   11   Peter\n",
      "3   10     Jan\n",
      "4    8   Bobby\n",
      "5    7   Cindy\n",
      "6    8  Oliver\n"
     ]
    }
   ],
   "source": [
    "df.set_value(5, 'age', 7)\n",
    "print(df)"
   ]
  },
  {
   "cell_type": "code",
   "execution_count": 12,
   "metadata": {},
   "outputs": [
    {
     "name": "stdout",
     "output_type": "stream",
     "text": [
      "9.85714285714\n",
      "10.0\n",
      "8\n",
      "6.40816326531\n",
      "2.53143502095\n",
      "2.73426232761\n",
      "1.03345401972\n"
     ]
    }
   ],
   "source": [
    "print(mean)\n",
    "print(median)\n",
    "print(mode)\n",
    "print(variance)\n",
    "print(standard_deviation)\n",
    "print(population_standard_deviation)\n",
    "print(standard_error)\n"
   ]
  },
  {
   "cell_type": "markdown",
   "metadata": {},
   "source": [
    "The calculations seem to have not been changed at all. "
   ]
  },
  {
   "cell_type": "code",
   "execution_count": 13,
   "metadata": {},
   "outputs": [
    {
     "name": "stdout",
     "output_type": "stream",
     "text": [
      "   age     name\n",
      "0   14     Greg\n",
      "1   12   Marcia\n",
      "2   11    Peter\n",
      "3   10      Jan\n",
      "4    8    Bobby\n",
      "5    7    Cindy\n",
      "6    1  Jessica\n"
     ]
    }
   ],
   "source": [
    "df.set_value(6, 'age', 1)\n",
    "df.set_value(6, 'name', 'Jessica')\n",
    "print(df)"
   ]
  },
  {
   "cell_type": "code",
   "execution_count": 16,
   "metadata": {},
   "outputs": [
    {
     "name": "stdout",
     "output_type": "stream",
     "text": [
      "9.85714285714\n",
      "10.0\n",
      "8\n",
      "15.4285714286\n",
      "3.92792202425\n",
      "4.24264068712\n",
      "1.60356745147\n"
     ]
    }
   ],
   "source": [
    "print(mean)\n",
    "print(median)\n",
    "print(mode)\n",
    "print(variance)\n",
    "print(standard_deviation)\n",
    "print(population_standard_deviation)\n",
    "print(standard_error)"
   ]
  },
  {
   "cell_type": "markdown",
   "metadata": {},
   "source": [
    "Q4: No. The numbers do not seem to have changed.\n",
    "\n",
    "Q5: This question is extra tricky because I have more questions I want to ask before I try to answer. \n",
    "How many actual survey responders were there for each survey taken? \n",
    "Was there any overlap in the respondents?(more than one person responding to the survey)\n",
    "If there was overlap, how much was there?\n",
    "\n",
    "Assuming the number of respondents was the same AND no overlap exists: 16.25%."
   ]
  },
  {
   "cell_type": "code",
   "execution_count": null,
   "metadata": {
    "collapsed": true
   },
   "outputs": [],
   "source": []
  }
 ],
 "metadata": {
  "kernelspec": {
   "display_name": "Python 3",
   "language": "python",
   "name": "python3"
  },
  "language_info": {
   "codemirror_mode": {
    "name": "ipython",
    "version": 3
   },
   "file_extension": ".py",
   "mimetype": "text/x-python",
   "name": "python",
   "nbconvert_exporter": "python",
   "pygments_lexer": "ipython3",
   "version": "3.6.1"
  }
 },
 "nbformat": 4,
 "nbformat_minor": 2
}
